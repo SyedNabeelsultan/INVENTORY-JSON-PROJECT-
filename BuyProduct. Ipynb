Read from Record JSON
In [5]:
fd = open("record.json","r")
txt = fd.read()
fd.close()
Read from "Sale" JSON
In [10]:
fd = open("sales.json","r")
txt=fd.read()
fd.close()

sale=json.loads(txt)
In [6]:
import json
product = json.loads(txt)
In [7]:
product
Out[7]:
{'1001': {'name': 'Keyboard', 'price': 350, 'quantity': 10},
 '1002': {'name': 'Mouse', 'price': 150, 'quantity': 20},
 '1003': {'name': 'Monitor', 'price': 5000, 'quantity': 10},
 '1004': {'name': 'CPU', 'price': 10000, 'quantity': 15},
 '1005': {'name': 'Sound', 'price': 2000, 'quantity': 10},
 '1006': {'name': 'Harddisk', 'price': 3000, 'quantity': 30},
 '1007': {'name': 'RAM', 'price': 2000, 'quantity': 20},
 '1008': {'name': 'Pendrive', 'price': 500, 'quantity': 30},
 '1009': {'name': 'Memory card', 'price': 150, 'quantity': 30},
 '10010': {'name': 'CD', 'price': 10, 'quantity': 50},
 '10011': {'name': 'DVD', 'price': 200, 'quantity': 100},
 '10012': {'name': 'Pen', 'price': 50, 'quantity': 100},
 '10013': {'name': 'Touchpad', 'price': 4000, 'quantity': 20},
 '10014': {'name': 'Graphics card', 'price': 4000, 'quantity': 20},
 '10015': {'name': 'Charger', 'price': 600, 'quantity': 10},
 '10016': {'name': 'Ethernet', 'price': 100, 'quantity': 50},
 '10017': {'name': 'Coaxial cable', 'price': 400, 'quantity': 30},
 '10018': {'name': 'fan', 'price': 500, 'quantity': 20},
 '10019': {'name': 'notebook', 'price': 50, 'quantity': 50},
 '10020': {'name': 'headphone', 'price': 550, 'quantity': 40},
 '10021': {'name': 'earbuds', 'price': 5000, 'quantity': 40},
 '10022': {'name': 'CN book', 'price': 800, 'quantity': 50},
 '10023': {'name': 'Laptop', 'price': 30, 'quantity': 20},
 '10024': {'name': 'Laptop', 'price': 50000, 'quantity': 40},
 '10025': {'name': 'router', 'price': 3300, 'quantity': 30},
 '10026': {'name': 'bluetooth', 'price': 900, 'quantity': 20},
 '10027': {'name': 'switches', 'price': 5000, 'quantity': 30},
 '10028': {'name': 'HUB', 'price': 3000, 'quantity': 30},
 '10029': {'name': 'Phone', 'price': 20000, 'quantity': 30},
 '10030': {'name': 'Mobile', 'price': 2000, 'quantity': 23}}
Update inventory after purchase
In [11]:
import time
ch=1
while(ch):
    ui_id = str(input("Enter Product ID: "))
    ui_quant = int(input("Enter Product Quantity: "))
    if product[ui_id]['quantity'] >= ui_quant or ui_quant == 0: #Check whether stock is available or not and user cannot be enter quantity zero
        print("----------------------------------------")
        print("Product Name: ",product[ui_id]['name'])
        print("Product Price: ",product[ui_id]['price'])
        print("Billing Amount: ",product[ui_id]['price']*ui_quant)
        product[ui_id]['quantity'] = product[ui_id]['quantity']-ui_quant

        js = json.dumps(product)  #Update inventory after purchase
        fd = open("record.json","w")  
        fd.write(js)
        fd.close()
        
        uname = input("Enter your name: ") #Take user input
        address = input("Enter your address: ")
        order_time = time.ctime()
        
        sale[int(len(sale))+1] = {"user_name" :uname, "address": address, "prod_name" : product[ui_id]['name'], "prod_quant" : ui_quant, "amount":product[ui_id]['price']*ui_quant, "order_time": order_time}
        js = json.dumps(sale)
        fd = open("sales.json","w")
        fd.write(js)
        fd.close()
        print("\nSuccessfully placed order!!!\n This is your bill:")
        
        print("-------------BILL---------------")
        print("Name: ",uname)
        print("Address: ",address)
        print("Ordered Time: ",order_time)
        print("--------------------------------")
        print("Product Name: ",product[ui_id]['name'])
        print("Product Price: ",product[ui_id]['price'])
        print("Product Quantity: ",ui_quant)
        print("Billing Amount: ",product[ui_id]['price']*ui_quant)
        

    else:
        print("Material shortage!!Please enter valid quantity.....")
    ch=int(input("Want to continue press 1..."))

fd = open("record.json","r")
txt = fd.read()
fd.close()
Enter Product ID: 1002
Enter Product Quantity: 1
----------------------------------------
Product Name:  Mouse
Product Price:  150
Billing Amount:  150
Enter your name: Abhishek
Enter your address: pune

Successfully placed order!!!
 This is your bill:
-------------BILL---------------
Name:  Abhishek
Address:  pune
Ordered Time:  Mon Sep  6 01:55:26 2021
--------------------------------
Product Name:  Mouse
Product Price:  150
Product Quantity:  1
Billing Amount:  150
Want to continue press 1...0
In [12]:
fd = open("sales.json","r")
txt=fd.read()
fd.close()

sale=json.loads(txt)
sale
Out[12]:
{'1': {'user_name': 'ASD',
  'address': 'qq',
  'prod_name': 'Keyboard',
  'prod_quant': 1,
  'amount': 350,
  'order_time': 'Mon Sep  6 01:21:24 2021'},
 '2': {'user_name': 'Abhishek',
  'address': 'Pune',
  'prod_name': 'Mouse',
  'prod_quant': 2,
  'amount': 300,
  'order_time': 'Mon Sep  6 01:23:45 2021'},
 '3': {'user_name': 'Sanket',
  'address': 'Delhi',
  'prod_name': 'Monitor',
  'prod_quant': 1,
  'amount': 5000,
  'order_time': 'Mon Sep  6 01:24:40 2021'},
 '4': {'user_name': 'Omkar',
  'address': 'Solapur',
  'prod_name': 'CPU',
  'prod_quant': 3,
  'amount': 30000,
  'order_time': 'Mon Sep  6 01:25:25 2021'},
 '5': {'user_name': 'Amit',
  'address': 'Ahmednagar',
  'prod_name': 'CPU',
  'prod_quant': 2,
  'amount': 20000,
  'order_time': 'Mon Sep  6 01:26:21 2021'},
 '6': {'user_name': 'Mahesh',
  'address': 'Kolhapur',
  'prod_name': 'Printer',
  'prod_quant': 2,
  'amount': 12000,
  'order_time': 'Mon Sep  6 01:26:55 2021'},
 '7': {'user_name': 'Nikhil',
  'address': 'Dhule',
  'prod_name': 'Scanner ',
  'prod_quant': 2,
  'amount': 8000,
  'order_time': 'Mon Sep  6 01:27:58 2021'},
 '8': {'user_name': 'Yogesh',
  'address': 'Pune',
  'prod_name': 'Printer',
  'prod_quant': 2,
  'amount': 12000,
  'order_time': 'Mon Sep  6 01:30:23 2021'},
 '9': {'user_name': 'Mandar',
  'address': 'Satara',
  'prod_name': 'Printer',
  'prod_quant': 4,
  'amount': 24000,
  'order_time': 'Mon Sep  6 01:30:56 2021'},
 '10': {'user_name': 'Abhi',
  'address': 'Karjat',
  'prod_name': 'Printer',
  'prod_quant': 4,
  'amount': 24000,
  'order_time': 'Mon Sep  6 01:31:16 2021'},
 '11': {'user_name': 'Abhishek',
  'address': 'pune',
  'prod_name': 'Mouse',
  'prod_quant': 1,
  'amount': 150,
  'order_time': 'Mon Sep  6 01:55:26 2021'}}
In [ ]:
