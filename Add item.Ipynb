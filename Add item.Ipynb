In [10]:
product={
            1001 : {'name' : 'Keyboard', 'price' : 350, 'quantity' : 10},
            1002 : {'name' : 'Mouse', 'price' : 150, 'quantity' : 20},
            1003 : {'name' : 'Monitor', 'price' : 5000, 'quantity' : 10},
            1004 : {'name' : 'CPU', 'price' : 10000, 'quantity' : 15}
}
In [11]:
product
Out[11]:
{1001: {'name': 'Keyboard', 'price': 350, 'quantity': 10},
 1002: {'name': 'Mouse', 'price': 150, 'quantity': 20},
 1003: {'name': 'Monitor', 'price': 5000, 'quantity': 10},
 1004: {'name': 'CPU', 'price': 10000, 'quantity': 15}}
Writing In json File
In [12]:
import json
In [13]:
js = json.dumps(product) #create json formatted content i.e. TXT
In [14]:
js #str type
Out[14]:
'{"1001": {"name": "Keyboard", "price": 350, "quantity": 10}, "1002": {"name": "Mouse", "price": 150, "quantity": 20}, "1003": {"name": "Monitor", "price": 5000, "quantity": 10}, "1004": {"name": "CPU", "price": 10000, "quantity": 15}}'
In [15]:
fd = open("record.json", 'w' )
fd.write(js)
fd.close()
Read Data from JSON
In [16]:
fd = open("record.json",'r')
txt = fd.read()
fd.close()
In [17]:
record = json.loads(txt)
In [18]:
record
Out[18]:
{'1001': {'name': 'Keyboard', 'price': 350, 'quantity': 10},
 '1002': {'name': 'Mouse', 'price': 150, 'quantity': 20},
 '1003': {'name': 'Monitor', 'price': 5000, 'quantity': 10},
 '1004': {'name': 'CPU', 'price': 10000, 'quantity': 15}}
In [19]:
len(record)
Out[19]:
4
ADD NEW ITEM INTO INVENTORY
In [61]:
prod_id = '100'+str(len(record)+1)
prod_name = str(input("Enter Product Name:"))
prod_price = int(input("Enter Product Price:"))
prod_quan = int(input("Enter Product Quantity:"))

record[prod_id] = {'name': prod_name, 'price': prod_price, 'quantity': prod_quan}

js = json.dumps(record)

fd = open("record.json","w")
fd.write(js)
fd.close()
Enter Product Name:Mobile
Enter Product Price:2000
Enter Product Quantity:23
In [62]:
fd = open("record.json","r")
txt = fd.read()
fd.close()
In [63]:
record = json.loads(txt) #Convert json (str) into dictionary
In [64]:
record
Out[64]:
{'1001': {'name': 'Keyboard', 'price': 350, 'quantity': 10},
 '1002': {'name': 'Mouse', 'price': 150, 'quantity': 20},
 '1003': {'name': 'Monitor', 'price': 5000, 'quantity': 10},
 '1004': {'name': 'CPU', 'price': 10000, 'quantity': 15},
 '1005': {'name': 'Sound', 'price': 2000, 'quantity': 10},
 '1006': {'name': 'Harddisk', 'price': 3000, 'quantity': 30},
 '1007': {'name': 'RAM', 'price': 2000, 'quantity': 20},
 '1008': {'name': 'Pendrive', 'price': 500, 'quantity': 30},
 '1009': {'name': 'Memory card', 'price': 150, 'quantity': 30},
 '10010': {'name': 'CD', 'price': 10, 'quantity': 50},
 '10011': {'name': 'DVD', 'price': 200, 'quantity': 100},
 '10012': {'name': 'Pen', 'price': 50, 'quantity': 100},
 '10013': {'name': 'Touchpad', 'price': 4000, 'quantity': 20},
 '10014': {'name': 'Graphics card', 'price': 4000, 'quantity': 20},
 '10015': {'name': 'Charger', 'price': 600, 'quantity': 10},
 '10016': {'name': 'Ethernet', 'price': 100, 'quantity': 50},
 '10017': {'name': 'Coaxial cable', 'price': 400, 'quantity': 30},
 '10018': {'name': 'fan', 'price': 500, 'quantity': 20},
 '10019': {'name': 'notebook', 'price': 50, 'quantity': 50},
 '10020': {'name': 'headphone', 'price': 550, 'quantity': 40},
 '10021': {'name': 'earbuds', 'price': 5000, 'quantity': 40},
 '10022': {'name': 'CN book', 'price': 800, 'quantity': 50},
 '10023': {'name': 'Laptop', 'price': 30, 'quantity': 20},
 '10024': {'name': 'Laptop', 'price': 50000, 'quantity': 40},
 '10025': {'name': 'router', 'price': 3300, 'quantity': 30},
 '10026': {'name': 'bluetooth', 'price': 900, 'quantity': 20},
 '10027': {'name': 'switches', 'price': 5000, 'quantity': 30},
 '10028': {'name': 'HUB', 'price': 3000, 'quantity': 30},
 '10029': {'name': 'Phone', 'price': 20000, 'quantity': 30},
 '10030': {'name': 'Mobile', 'price': 2000, 'quantity': 23}}
